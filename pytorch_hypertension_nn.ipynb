{
  "nbformat": 4,
  "nbformat_minor": 0,
  "metadata": {
    "colab": {
      "provenance": [],
      "authorship_tag": "ABX9TyMEqlkjklwcQOD4/X5Vb+AI",
      "include_colab_link": true
    },
    "kernelspec": {
      "name": "python3",
      "display_name": "Python 3"
    },
    "language_info": {
      "name": "python"
    }
  },
  "cells": [
    {
      "cell_type": "markdown",
      "metadata": {
        "id": "view-in-github",
        "colab_type": "text"
      },
      "source": [
        "<a href=\"https://colab.research.google.com/github/samiroffdaperc/hypertension-neural-net/blob/main/pytorch_hypertension_nn.ipynb\" target=\"_parent\"><img src=\"https://colab.research.google.com/assets/colab-badge.svg\" alt=\"Open In Colab\"/></a>"
      ]
    },
    {
      "cell_type": "code",
      "execution_count": null,
      "metadata": {
        "id": "MMl1neIg9QP2"
      },
      "outputs": [],
      "source": [
        "import pandas as pd\n",
        "import numpy as np\n",
        "import matplotlib.pyplot as plt\n",
        "import sklearn\n",
        "import torch\n",
        "import torch.nn as nn\n",
        "import math\n",
        "from sklearn.model_selection import train_test_split\n",
        "from torch.utils.data import Dataset, DataLoader\n",
        "from sklearn import preprocessing\n",
        "from torch import optim"
      ]
    },
    {
      "cell_type": "code",
      "source": [
        "device = \"cuda\" if torch.cuda.is_available() else \"cpu\"\n",
        "print(f\"Using {device} device\")"
      ],
      "metadata": {
        "colab": {
          "base_uri": "https://localhost:8080/"
        },
        "id": "CC4bquRcJO_w",
        "outputId": "3d7272c7-6445-4704-a3c7-793ae65bc7f7"
      },
      "execution_count": null,
      "outputs": [
        {
          "output_type": "stream",
          "name": "stdout",
          "text": [
            "Using cpu device\n"
          ]
        }
      ]
    },
    {
      "cell_type": "code",
      "source": [
        "# url = 'https://raw.githubusercontent.com/samiroffdaperc/hypertension-neural-net/main/data.csv'\n",
        "# df = pd.read_csv(url, index_col = 0)\n",
        "# af = pd.read_csv(url, index_col = 0, skiprows = 1)\n",
        "# df = df.drop(\"Level_of_Stress\", axis=1)\n",
        "# df = df.drop(\"Genetic_Pedigree_Coefficient\", axis=1)\n",
        "# df_reorder = df[['Level_of_Hemoglobin', 'Age', 'BMI', 'Sex', 'Pregnancy', 'Smoking', 'Physical_activity', 'salt_content_in_the_diet', 'alcohol_consumption_per_day', 'Chronic_kidney_disease', 'Adrenal_and_thyroid_disorders', 'Blood_Pressure_Abnormality']]\n",
        "# df_reorder = df_reorder.fillna(0)\n",
        "# dataset = df_reorder.values\n",
        "# x = dataset[:, 0:11]\n",
        "# y = dataset[:, 11]"
      ],
      "metadata": {
        "id": "jjTFG-6wNzJo"
      },
      "execution_count": null,
      "outputs": []
    },
    {
      "cell_type": "code",
      "source": [
        "a = 0\n",
        "for i in y:\n",
        "  a += 1\n",
        "print(a)"
      ],
      "metadata": {
        "colab": {
          "base_uri": "https://localhost:8080/"
        },
        "id": "XXBxLkamULqi",
        "outputId": "1d964c5a-79c3-43e2-fdb2-752566e79b67"
      },
      "execution_count": null,
      "outputs": [
        {
          "output_type": "stream",
          "name": "stdout",
          "text": [
            "2000\n"
          ]
        }
      ]
    },
    {
      "cell_type": "code",
      "source": [
        "# min_max_scaler = preprocessing.MinMaxScaler()\n",
        "# x_scale = min_max_scaler.fit_transform(x)"
      ],
      "metadata": {
        "id": "Rfxyi6bcyTu9"
      },
      "execution_count": null,
      "outputs": []
    },
    {
      "cell_type": "code",
      "source": [
        "class bloodDataset(Dataset):\n",
        "\n",
        "  def __init__(self):\n",
        "    url = 'https://raw.githubusercontent.com/samiroffdaperc/hypertension-neural-net/main/data.csv'\n",
        "    df = pd.read_csv(url, index_col = 0)\n",
        "    af = pd.read_csv(url, index_col = 0)\n",
        "    df = df.drop(\"Level_of_Stress\", axis=1)\n",
        "    df = df.drop(\"Genetic_Pedigree_Coefficient\", axis=1)\n",
        "    df_reorder = df[['Level_of_Hemoglobin', 'Age', 'BMI', 'Sex', 'Pregnancy', 'Smoking', 'Physical_activity', 'salt_content_in_the_diet', 'alcohol_consumption_per_day', 'Chronic_kidney_disease', 'Adrenal_and_thyroid_disorders', 'Blood_Pressure_Abnormality']]\n",
        "    df_reorder = df_reorder.fillna(0)\n",
        "    dataset = df_reorder.values\n",
        "    self.x = dataset[:, 0:11]\n",
        "    self.y = dataset[:, 11]\n",
        "    self.x = torch.from_numpy(self.x)\n",
        "    self.y = torch.from_numpy(self.y)\n",
        "    self.n_samples = af.shape[0]\n",
        "\n",
        "  def __getitem__(self, index):\n",
        "    return self.x[index].clone().detach(), self.y[index].clone().detach()\n",
        "\n",
        "  def __len__(self):\n",
        "    return self.n_samples\n",
        "  \n",
        "blood_dataset = bloodDataset()"
      ],
      "metadata": {
        "id": "cMRPdjCOeKYJ"
      },
      "execution_count": null,
      "outputs": []
    },
    {
      "cell_type": "code",
      "source": [
        "dataloader = DataLoader(blood_dataset, batch_size = 4, shuffle=True, num_workers=2)\n",
        "dataiter = iter(dataloader)\n",
        "data = next(dataiter)\n",
        "features, labels = data"
      ],
      "metadata": {
        "id": "FPm7UckshTE5"
      },
      "execution_count": null,
      "outputs": []
    },
    {
      "cell_type": "code",
      "source": [
        "num_epochs = 2\n",
        "total_samples = len(dataset)\n",
        "n_iterations = math.ceil(total_samples/4)"
      ],
      "metadata": {
        "id": "DMA7v9cJW4-s"
      },
      "execution_count": null,
      "outputs": []
    },
    {
      "cell_type": "code",
      "source": [
        "# for epoch in range(num_epochs):\n",
        "#   for i, (inputs, labels) in enumerate(dataloader):\n",
        "#     if (i+1) % 5 == 0:\n",
        "#       print(f'epoch {epoch+1}/{num_epochs}, step {i+1}/{n_iterations}, inputs {inputs.shape}')"
      ],
      "metadata": {
        "id": "H1jzlADbXdoO"
      },
      "execution_count": null,
      "outputs": []
    },
    {
      "cell_type": "code",
      "source": [
        "class Classifier(nn.Module):\n",
        "    def __init__(self):\n",
        "        super().__init__()\n",
        "        self.fc1 = nn.Linear(11, 8, dtype=torch.float32)\n",
        "        self.fc2 = nn.Linear(8, 4, dtype=torch.float32)\n",
        "        self.fc3 = nn.Linear(4, 2, dtype=torch.float32)\n",
        "        \n",
        "    def forward(self, x):\n",
        "        x = self.fc1(x)\n",
        "        x = torch.relu(x)\n",
        "        x = self.fc2(x)\n",
        "        x = torch.relu(x)\n",
        "        x = self.fc3(x)\n",
        "        return x\n",
        "        \n",
        "model = Classifier()"
      ],
      "metadata": {
        "id": "snXri6dF1wc8"
      },
      "execution_count": null,
      "outputs": []
    },
    {
      "cell_type": "code",
      "source": [
        "num_epochs = 10\n",
        "\n",
        "# define the loss function and optimizer\n",
        "loss_fn = nn.CrossEntropyLoss()\n",
        "optimizer = torch.optim.Adam(model.parameters())\n",
        "total_loss = 0.0\n",
        "total_correct = 0\n",
        "total_samples = 0\n",
        "# loop over the training data for a number of epochs\n",
        "for epoch in range(num_epochs):\n",
        "    # loop over the training data\n",
        "    for features, labels in dataloader:\n",
        "\n",
        "        features = features.to(torch.float32)\n",
        "\n",
        "        # clear the gradients\n",
        "        optimizer.zero_grad()\n",
        "        \n",
        "        # make predictions\n",
        "        predictions = model(features)\n",
        "        \n",
        "        # compute the loss\n",
        "        labels = labels.type(torch.LongTensor)\n",
        "        loss = loss_fn(predictions, labels)\n",
        "        total_loss += loss.item()\n",
        "        total_samples += len(labels)\n",
        "\n",
        "        _, predicted = predictions.max(1)\n",
        "        total_correct += (predicted == labels).sum().item()\n",
        "\n",
        "        # update the model's parameters\n",
        "        loss.backward()\n",
        "        optimizer.step()\n",
        "    #print(f'Epoch {epoch}: Loss = {loss / 4}')\n",
        "    print(total_loss)\n",
        "    print(total_samples)\n",
        "    print(total_correct)\n",
        "    avg_loss = total_loss / total_samples\n",
        "    accuracy = total_correct / total_samples\n",
        "    print(f\"Test loss: {avg_loss:.4f}\")\n",
        "    print(f\"Test accuracy: {accuracy:.4f}\")"
      ],
      "metadata": {
        "colab": {
          "base_uri": "https://localhost:8080/"
        },
        "id": "FHh4Bn63Wzye",
        "outputId": "dcc14a79-d433-48d4-c899-2da78ba0fddc"
      },
      "execution_count": null,
      "outputs": [
        {
          "output_type": "stream",
          "name": "stdout",
          "text": [
            "2292.0282733176136\n",
            "2000\n",
            "1032\n",
            "Test loss: 1.1460\n",
            "Test accuracy: 0.5160\n",
            "3199.851538542309\n",
            "4000\n",
            "2050\n",
            "Test loss: 0.8000\n",
            "Test accuracy: 0.5125\n",
            "3908.9526798460865\n",
            "6000\n",
            "3067\n",
            "Test loss: 0.6515\n",
            "Test accuracy: 0.5112\n",
            "4619.724139038124\n",
            "8000\n",
            "4071\n",
            "Test loss: 0.5775\n",
            "Test accuracy: 0.5089\n",
            "5173.800780269899\n",
            "10000\n",
            "5083\n",
            "Test loss: 0.5174\n",
            "Test accuracy: 0.5083\n",
            "5681.383651081123\n",
            "12000\n",
            "6090\n",
            "Test loss: 0.4734\n",
            "Test accuracy: 0.5075\n",
            "6131.9140140149975\n",
            "14000\n",
            "7089\n",
            "Test loss: 0.4380\n",
            "Test accuracy: 0.5064\n",
            "6545.983337703743\n",
            "16000\n",
            "8074\n",
            "Test loss: 0.4091\n",
            "Test accuracy: 0.5046\n",
            "6961.262328508892\n",
            "18000\n",
            "9083\n",
            "Test loss: 0.3867\n",
            "Test accuracy: 0.5046\n",
            "7347.703828785219\n",
            "20000\n",
            "10101\n",
            "Test loss: 0.3674\n",
            "Test accuracy: 0.5050\n"
          ]
        }
      ]
    },
    {
      "cell_type": "code",
      "source": [],
      "metadata": {
        "id": "uZP65NJTAQRK"
      },
      "execution_count": null,
      "outputs": []
    }
  ]
}